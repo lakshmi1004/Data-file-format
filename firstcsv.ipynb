{
 "cells": [
  {
   "cell_type": "code",
   "execution_count": 5,
   "metadata": {},
   "outputs": [],
   "source": [
    "import csv\n",
    "my_list = [[\"Sparky_10\",\"Brownika\", \"25\"], [\"hamil@14\",\"Francis\", \"85\"],[\"drama@12\",\"Wooten\", \"14\"]]\n",
    "\n",
    "with open('User.csv','w') as f:\n",
    "    emp = csv.writer(f)\n",
    "    emp.writerow(['User_id','Name' ,'Age'])\n",
    "    emp.writerows(my_list)"
   ]
  }
 ],
 "metadata": {
  "interpreter": {
   "hash": "309d55093c20dde78e2d73e41541ecb833faa4b88249672f334c68656f50009c"
  },
  "kernelspec": {
   "display_name": "Python 3.9.7 ('selenium')",
   "language": "python",
   "name": "python3"
  },
  "language_info": {
   "codemirror_mode": {
    "name": "ipython",
    "version": 3
   },
   "file_extension": ".py",
   "mimetype": "text/x-python",
   "name": "python",
   "nbconvert_exporter": "python",
   "pygments_lexer": "ipython3",
   "version": "3.9.7"
  },
  "orig_nbformat": 4
 },
 "nbformat": 4,
 "nbformat_minor": 2
}
